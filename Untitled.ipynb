{
 "cells": [
  {
   "cell_type": "code",
   "execution_count": 2,
   "id": "d941dc1f-cc22-4ae9-b959-813803426274",
   "metadata": {},
   "outputs": [],
   "source": [
    "import yfinance as yf\n",
    "import pandas as pd\n",
    "import datetime\n",
    "import logging"
   ]
  },
  {
   "cell_type": "markdown",
   "id": "3cc8a7f2-490d-42e7-a953-fd8bcb64c629",
   "metadata": {},
   "source": [
    "# Data Ingestion"
   ]
  },
  {
   "cell_type": "code",
   "execution_count": 4,
   "id": "7fd8931f-44f2-478f-a593-f09ae8aea487",
   "metadata": {},
   "outputs": [],
   "source": [
    "logging.basicConfig(level=logging.INFO,format='%(asctime)s- %(levelname)s - %(message)s')"
   ]
  },
  {
   "cell_type": "code",
   "execution_count": 5,
   "id": "f3a84368-af52-43cb-96a7-474782e89362",
   "metadata": {},
   "outputs": [],
   "source": [
    "def fetch_data(tickers,period='6mo',interval='1d'):\n",
    "    data={}\n",
    "    for ticker in tickers:\n",
    "        stock=yf.Ticker(ticker)\n",
    "        df=stock.history(period=period,interval=interval)\n",
    "        df.dropna(inplace=True) # if any nan values are present they will get eliminated\n",
    "        data[ticker]=df\n",
    "    return data"
   ]
  },
  {
   "cell_type": "code",
   "execution_count": 6,
   "id": "53e6e831-e4a1-4599-9954-f585ca441b1d",
   "metadata": {},
   "outputs": [],
   "source": [
    "# Considering Three stocks\n",
    "\n",
    "tickers=['ONGC.NS','TCS.NS','INFY.NS']\n",
    "stock_data=fetch_data(tickers)"
   ]
  },
  {
   "cell_type": "code",
   "execution_count": 7,
   "id": "b3f5944e-6434-4d8b-9bbf-95b4fb2668ba",
   "metadata": {
    "scrolled": true
   },
   "outputs": [
    {
     "data": {
      "text/plain": [
       "{'ONGC.NS':                                  Open        High         Low       Close  \\\n",
       " Date                                                                        \n",
       " 2025-02-11 00:00:00+05:30  242.449997  242.449997  236.800003  238.949997   \n",
       " 2025-02-12 00:00:00+05:30  239.000000  241.250000  234.149994  237.399994   \n",
       " 2025-02-13 00:00:00+05:30  238.500000  239.449997  234.199997  234.949997   \n",
       " 2025-02-14 00:00:00+05:30  235.000000  237.949997  226.750000  230.500000   \n",
       " 2025-02-17 00:00:00+05:30  230.199997  234.300003  225.050003  233.649994   \n",
       " ...                               ...         ...         ...         ...   \n",
       " 2025-08-05 00:00:00+05:30  235.500000  236.000000  233.050003  234.479996   \n",
       " 2025-08-06 00:00:00+05:30  234.550003  235.369995  232.910004  233.770004   \n",
       " 2025-08-07 00:00:00+05:30  233.149994  234.199997  231.309998  233.929993   \n",
       " 2025-08-08 00:00:00+05:30  233.899994  235.119995  232.679993  233.440002   \n",
       " 2025-08-11 00:00:00+05:30  233.440002  235.000000  231.580002  233.789993   \n",
       " \n",
       "                              Volume  Dividends  Stock Splits  \n",
       " Date                                                          \n",
       " 2025-02-11 00:00:00+05:30   6711630        0.0           0.0  \n",
       " 2025-02-12 00:00:00+05:30   5985956        0.0           0.0  \n",
       " 2025-02-13 00:00:00+05:30  10079210        0.0           0.0  \n",
       " 2025-02-14 00:00:00+05:30   8065352        0.0           0.0  \n",
       " 2025-02-17 00:00:00+05:30   6692422        0.0           0.0  \n",
       " ...                             ...        ...           ...  \n",
       " 2025-08-05 00:00:00+05:30   9562689        0.0           0.0  \n",
       " 2025-08-06 00:00:00+05:30   7568954        0.0           0.0  \n",
       " 2025-08-07 00:00:00+05:30   5560413        0.0           0.0  \n",
       " 2025-08-08 00:00:00+05:30   5249568        0.0           0.0  \n",
       " 2025-08-11 00:00:00+05:30   4690786        0.0           0.0  \n",
       " \n",
       " [123 rows x 7 columns],\n",
       " 'TCS.NS':                                   Open         High          Low        Close  \\\n",
       " Date                                                                            \n",
       " 2025-02-11 00:00:00+05:30  3969.526497  3990.863886  3906.897690  3915.343750   \n",
       " 2025-02-12 00:00:00+05:30  3922.801835  3972.835711  3892.228070  3902.106445   \n",
       " 2025-02-13 00:00:00+05:30  3919.739518  3935.989398  3854.789197  3862.593018   \n",
       " 2025-02-14 00:00:00+05:30  3877.262379  3899.982643  3852.566441  3886.992676   \n",
       " 2025-02-17 00:00:00+05:30  3809.595275  3886.152681  3809.298876  3857.011475   \n",
       " ...                                ...          ...          ...          ...   \n",
       " 2025-08-05 00:00:00+05:30  3074.399902  3077.500000  3042.000000  3063.899902   \n",
       " 2025-08-06 00:00:00+05:30  3063.000000  3066.800049  3026.000000  3032.300049   \n",
       " 2025-08-07 00:00:00+05:30  3016.000000  3051.600098  3010.899902  3047.000000   \n",
       " 2025-08-08 00:00:00+05:30  3048.100098  3059.800049  3025.000000  3036.399902   \n",
       " 2025-08-11 00:00:00+05:30  3036.399902  3049.899902  3021.300049  3040.800049   \n",
       " \n",
       "                             Volume  Dividends  Stock Splits  \n",
       " Date                                                         \n",
       " 2025-02-11 00:00:00+05:30  1810908        0.0           0.0  \n",
       " 2025-02-12 00:00:00+05:30  1678002        0.0           0.0  \n",
       " 2025-02-13 00:00:00+05:30  2277310        0.0           0.0  \n",
       " 2025-02-14 00:00:00+05:30  1681975        0.0           0.0  \n",
       " 2025-02-17 00:00:00+05:30  1799806        0.0           0.0  \n",
       " ...                            ...        ...           ...  \n",
       " 2025-08-05 00:00:00+05:30  1927996        0.0           0.0  \n",
       " 2025-08-06 00:00:00+05:30  1487081        0.0           0.0  \n",
       " 2025-08-07 00:00:00+05:30  2543076        0.0           0.0  \n",
       " 2025-08-08 00:00:00+05:30  2762140        0.0           0.0  \n",
       " 2025-08-11 00:00:00+05:30  1883479        0.0           0.0  \n",
       " \n",
       " [123 rows x 7 columns],\n",
       " 'INFY.NS':                                   Open         High          Low        Close  \\\n",
       " Date                                                                            \n",
       " 2025-02-11 00:00:00+05:30  1856.972194  1876.596108  1844.053979  1849.625610   \n",
       " 2025-02-12 00:00:00+05:30  1858.845882  1868.312660  1821.373127  1837.299072   \n",
       " 2025-02-13 00:00:00+05:30  1842.574831  1847.505456  1810.180644  1817.675171   \n",
       " 2025-02-14 00:00:00+05:30  1828.275976  1833.502487  1802.981842  1830.642700   \n",
       " 2025-02-17 00:00:00+05:30  1813.040312  1827.043240  1796.867837  1816.738281   \n",
       " ...                                ...          ...          ...          ...   \n",
       " 2025-08-05 00:00:00+05:30  1478.699951  1478.699951  1455.000000  1460.300049   \n",
       " 2025-08-06 00:00:00+05:30  1452.000000  1456.099976  1430.300049  1436.699951   \n",
       " 2025-08-07 00:00:00+05:30  1430.000000  1442.000000  1414.199951  1436.900024   \n",
       " 2025-08-08 00:00:00+05:30  1425.000000  1433.199951  1417.099976  1423.099976   \n",
       " 2025-08-11 00:00:00+05:30  1419.900024  1433.400024  1414.000000  1428.199951   \n",
       " \n",
       "                              Volume  Dividends  Stock Splits  \n",
       " Date                                                          \n",
       " 2025-02-11 00:00:00+05:30   4411601        0.0           0.0  \n",
       " 2025-02-12 00:00:00+05:30   5633947        0.0           0.0  \n",
       " 2025-02-13 00:00:00+05:30   5237744        0.0           0.0  \n",
       " 2025-02-14 00:00:00+05:30   5292961        0.0           0.0  \n",
       " 2025-02-17 00:00:00+05:30   4428956        0.0           0.0  \n",
       " ...                             ...        ...           ...  \n",
       " 2025-08-05 00:00:00+05:30  10213323        0.0           0.0  \n",
       " 2025-08-06 00:00:00+05:30  10566934        0.0           0.0  \n",
       " 2025-08-07 00:00:00+05:30   9892020        0.0           0.0  \n",
       " 2025-08-08 00:00:00+05:30  10048009        0.0           0.0  \n",
       " 2025-08-11 00:00:00+05:30   6624431        0.0           0.0  \n",
       " \n",
       " [123 rows x 7 columns]}"
      ]
     },
     "execution_count": 7,
     "metadata": {},
     "output_type": "execute_result"
    }
   ],
   "source": [
    "stock_data"
   ]
  },
  {
   "cell_type": "markdown",
   "id": "4e9368e5-a3d8-4bda-b624-4ba96e03c54d",
   "metadata": {},
   "source": [
    "# Defining RSI AND DMA"
   ]
  },
  {
   "cell_type": "code",
   "execution_count": 9,
   "id": "e4f2e792-4870-44c0-a066-5dd01deccd15",
   "metadata": {},
   "outputs": [],
   "source": [
    "# defining function for calculating RSI\n",
    "\n",
    "def rsi(series,window=14):\n",
    "    delta=series.diff()\n",
    "    gain=delta.clip(lower=0)\n",
    "    loss=-1*delta.clip(upper=0)\n",
    "    avg_gain=gain.rolling(window=window,min_periods=window).mean()\n",
    "    avg_loss=loss.rolling(window=window,min_periods=window).mean()\n",
    "    rs=avg_gain/avg_loss\n",
    "    rsi=100-(100/(1+rs))\n",
    "    return rsi"
   ]
  },
  {
   "cell_type": "code",
   "execution_count": 10,
   "id": "f138f9c0-8f6e-433a-ac69-b8070c555689",
   "metadata": {},
   "outputs": [],
   "source": [
    "# adding required columns\n",
    "\n",
    "def add(df):\n",
    "    df['RSI']=rsi(df['Close'])\n",
    "    df['20DMA']=df['Close'].rolling(window=20).mean()\n",
    "    df['50DMA']=df['Close'].rolling(window=50).mean()\n",
    "    return df"
   ]
  },
  {
   "cell_type": "code",
   "execution_count": 11,
   "id": "947338e1-ccb4-4088-92e5-6508b3aa1f46",
   "metadata": {},
   "outputs": [],
   "source": [
    "for ticker in tickers:\n",
    "    stock_data[ticker]=add(stock_data[ticker])"
   ]
  },
  {
   "cell_type": "code",
   "execution_count": 12,
   "id": "30993374-faca-46a4-b4be-230bc4e3e0b4",
   "metadata": {
    "scrolled": true
   },
   "outputs": [
    {
     "data": {
      "text/plain": [
       "{'ONGC.NS':                                  Open        High         Low       Close  \\\n",
       " Date                                                                        \n",
       " 2025-02-11 00:00:00+05:30  242.449997  242.449997  236.800003  238.949997   \n",
       " 2025-02-12 00:00:00+05:30  239.000000  241.250000  234.149994  237.399994   \n",
       " 2025-02-13 00:00:00+05:30  238.500000  239.449997  234.199997  234.949997   \n",
       " 2025-02-14 00:00:00+05:30  235.000000  237.949997  226.750000  230.500000   \n",
       " 2025-02-17 00:00:00+05:30  230.199997  234.300003  225.050003  233.649994   \n",
       " ...                               ...         ...         ...         ...   \n",
       " 2025-08-05 00:00:00+05:30  235.500000  236.000000  233.050003  234.479996   \n",
       " 2025-08-06 00:00:00+05:30  234.550003  235.369995  232.910004  233.770004   \n",
       " 2025-08-07 00:00:00+05:30  233.149994  234.199997  231.309998  233.929993   \n",
       " 2025-08-08 00:00:00+05:30  233.899994  235.119995  232.679993  233.440002   \n",
       " 2025-08-11 00:00:00+05:30  233.440002  235.000000  231.580002  233.789993   \n",
       " \n",
       "                              Volume  Dividends  Stock Splits        RSI  \\\n",
       " Date                                                                      \n",
       " 2025-02-11 00:00:00+05:30   6711630        0.0           0.0        NaN   \n",
       " 2025-02-12 00:00:00+05:30   5985956        0.0           0.0        NaN   \n",
       " 2025-02-13 00:00:00+05:30  10079210        0.0           0.0        NaN   \n",
       " 2025-02-14 00:00:00+05:30   8065352        0.0           0.0        NaN   \n",
       " 2025-02-17 00:00:00+05:30   6692422        0.0           0.0        NaN   \n",
       " ...                             ...        ...           ...        ...   \n",
       " 2025-08-05 00:00:00+05:30   9562689        0.0           0.0  30.633942   \n",
       " 2025-08-06 00:00:00+05:30   7568954        0.0           0.0  26.291105   \n",
       " 2025-08-07 00:00:00+05:30   5560413        0.0           0.0  17.455279   \n",
       " 2025-08-08 00:00:00+05:30   5249568        0.0           0.0  18.201736   \n",
       " 2025-08-11 00:00:00+05:30   4690786        0.0           0.0  13.356437   \n",
       " \n",
       "                                 20DMA       50DMA  \n",
       " Date                                               \n",
       " 2025-02-11 00:00:00+05:30         NaN         NaN  \n",
       " 2025-02-12 00:00:00+05:30         NaN         NaN  \n",
       " 2025-02-13 00:00:00+05:30         NaN         NaN  \n",
       " 2025-02-14 00:00:00+05:30         NaN         NaN  \n",
       " 2025-02-17 00:00:00+05:30         NaN         NaN  \n",
       " ...                               ...         ...  \n",
       " 2025-08-05 00:00:00+05:30  242.080499  243.655000  \n",
       " 2025-08-06 00:00:00+05:30  241.601499  243.477000  \n",
       " 2025-08-07 00:00:00+05:30  241.143499  243.294800  \n",
       " 2025-08-08 00:00:00+05:30  240.727499  243.175601  \n",
       " 2025-08-11 00:00:00+05:30  240.205999  243.085201  \n",
       " \n",
       " [123 rows x 10 columns],\n",
       " 'TCS.NS':                                   Open         High          Low        Close  \\\n",
       " Date                                                                            \n",
       " 2025-02-11 00:00:00+05:30  3969.526497  3990.863886  3906.897690  3915.343750   \n",
       " 2025-02-12 00:00:00+05:30  3922.801835  3972.835711  3892.228070  3902.106445   \n",
       " 2025-02-13 00:00:00+05:30  3919.739518  3935.989398  3854.789197  3862.593018   \n",
       " 2025-02-14 00:00:00+05:30  3877.262379  3899.982643  3852.566441  3886.992676   \n",
       " 2025-02-17 00:00:00+05:30  3809.595275  3886.152681  3809.298876  3857.011475   \n",
       " ...                                ...          ...          ...          ...   \n",
       " 2025-08-05 00:00:00+05:30  3074.399902  3077.500000  3042.000000  3063.899902   \n",
       " 2025-08-06 00:00:00+05:30  3063.000000  3066.800049  3026.000000  3032.300049   \n",
       " 2025-08-07 00:00:00+05:30  3016.000000  3051.600098  3010.899902  3047.000000   \n",
       " 2025-08-08 00:00:00+05:30  3048.100098  3059.800049  3025.000000  3036.399902   \n",
       " 2025-08-11 00:00:00+05:30  3036.399902  3049.899902  3021.300049  3040.800049   \n",
       " \n",
       "                             Volume  Dividends  Stock Splits        RSI  \\\n",
       " Date                                                                     \n",
       " 2025-02-11 00:00:00+05:30  1810908        0.0           0.0        NaN   \n",
       " 2025-02-12 00:00:00+05:30  1678002        0.0           0.0        NaN   \n",
       " 2025-02-13 00:00:00+05:30  2277310        0.0           0.0        NaN   \n",
       " 2025-02-14 00:00:00+05:30  1681975        0.0           0.0        NaN   \n",
       " 2025-02-17 00:00:00+05:30  1799806        0.0           0.0        NaN   \n",
       " ...                            ...        ...           ...        ...   \n",
       " 2025-08-05 00:00:00+05:30  1927996        0.0           0.0  26.088178   \n",
       " 2025-08-06 00:00:00+05:30  1487081        0.0           0.0  25.532517   \n",
       " 2025-08-07 00:00:00+05:30  2543076        0.0           0.0  29.980395   \n",
       " 2025-08-08 00:00:00+05:30  2762140        0.0           0.0  31.864200   \n",
       " 2025-08-11 00:00:00+05:30  1883479        0.0           0.0  32.467528   \n",
       " \n",
       "                                  20DMA        50DMA  \n",
       " Date                                                 \n",
       " 2025-02-11 00:00:00+05:30          NaN          NaN  \n",
       " 2025-02-12 00:00:00+05:30          NaN          NaN  \n",
       " 2025-02-13 00:00:00+05:30          NaN          NaN  \n",
       " 2025-02-14 00:00:00+05:30          NaN          NaN  \n",
       " 2025-02-17 00:00:00+05:30          NaN          NaN  \n",
       " ...                                ...          ...  \n",
       " 2025-08-05 00:00:00+05:30  3161.543518  3316.102534  \n",
       " 2025-08-06 00:00:00+05:30  3144.540759  3307.645352  \n",
       " 2025-08-07 00:00:00+05:30  3128.362695  3299.474258  \n",
       " 2025-08-08 00:00:00+05:30  3117.435010  3291.776729  \n",
       " 2025-08-11 00:00:00+05:30  3108.885010  3284.435889  \n",
       " \n",
       " [123 rows x 10 columns],\n",
       " 'INFY.NS':                                   Open         High          Low        Close  \\\n",
       " Date                                                                            \n",
       " 2025-02-11 00:00:00+05:30  1856.972194  1876.596108  1844.053979  1849.625610   \n",
       " 2025-02-12 00:00:00+05:30  1858.845882  1868.312660  1821.373127  1837.299072   \n",
       " 2025-02-13 00:00:00+05:30  1842.574831  1847.505456  1810.180644  1817.675171   \n",
       " 2025-02-14 00:00:00+05:30  1828.275976  1833.502487  1802.981842  1830.642700   \n",
       " 2025-02-17 00:00:00+05:30  1813.040312  1827.043240  1796.867837  1816.738281   \n",
       " ...                                ...          ...          ...          ...   \n",
       " 2025-08-05 00:00:00+05:30  1478.699951  1478.699951  1455.000000  1460.300049   \n",
       " 2025-08-06 00:00:00+05:30  1452.000000  1456.099976  1430.300049  1436.699951   \n",
       " 2025-08-07 00:00:00+05:30  1430.000000  1442.000000  1414.199951  1436.900024   \n",
       " 2025-08-08 00:00:00+05:30  1425.000000  1433.199951  1417.099976  1423.099976   \n",
       " 2025-08-11 00:00:00+05:30  1419.900024  1433.400024  1414.000000  1428.199951   \n",
       " \n",
       "                              Volume  Dividends  Stock Splits        RSI  \\\n",
       " Date                                                                      \n",
       " 2025-02-11 00:00:00+05:30   4411601        0.0           0.0        NaN   \n",
       " 2025-02-12 00:00:00+05:30   5633947        0.0           0.0        NaN   \n",
       " 2025-02-13 00:00:00+05:30   5237744        0.0           0.0        NaN   \n",
       " 2025-02-14 00:00:00+05:30   5292961        0.0           0.0        NaN   \n",
       " 2025-02-17 00:00:00+05:30   4428956        0.0           0.0        NaN   \n",
       " ...                             ...        ...           ...        ...   \n",
       " 2025-08-05 00:00:00+05:30  10213323        0.0           0.0  11.761689   \n",
       " 2025-08-06 00:00:00+05:30  10566934        0.0           0.0  11.810640   \n",
       " 2025-08-07 00:00:00+05:30   9892020        0.0           0.0  10.695542   \n",
       " 2025-08-08 00:00:00+05:30  10048009        0.0           0.0  10.059529   \n",
       " 2025-08-11 00:00:00+05:30   6624431        0.0           0.0  13.126666   \n",
       " \n",
       "                                  20DMA        50DMA  \n",
       " Date                                                 \n",
       " 2025-02-11 00:00:00+05:30          NaN          NaN  \n",
       " 2025-02-12 00:00:00+05:30          NaN          NaN  \n",
       " 2025-02-13 00:00:00+05:30          NaN          NaN  \n",
       " 2025-02-14 00:00:00+05:30          NaN          NaN  \n",
       " 2025-02-17 00:00:00+05:30          NaN          NaN  \n",
       " ...                                ...          ...  \n",
       " 2025-08-05 00:00:00+05:30  1552.190002  1579.667832  \n",
       " 2025-08-06 00:00:00+05:30  1542.340002  1577.402002  \n",
       " 2025-08-07 00:00:00+05:30  1533.395001  1574.868003  \n",
       " 2025-08-08 00:00:00+05:30  1524.804999  1572.076003  \n",
       " 2025-08-11 00:00:00+05:30  1517.699994  1569.564001  \n",
       " \n",
       " [123 rows x 10 columns]}"
      ]
     },
     "execution_count": 12,
     "metadata": {},
     "output_type": "execute_result"
    }
   ],
   "source": [
    "stock_data"
   ]
  },
  {
   "cell_type": "markdown",
   "id": "9d004c6b-22a8-4319-8162-ce11851ee641",
   "metadata": {},
   "source": [
    "# Trading Strategy Logic"
   ]
  },
  {
   "cell_type": "code",
   "execution_count": 23,
   "id": "548ee127-8872-441a-ac49-f644ecc63c64",
   "metadata": {},
   "outputs": [],
   "source": [
    "def gen_signals(df):\n",
    "    df['Signal']=0\n",
    "    \n",
    "    # buying condition and signal\n",
    "    buy_condition=(df['RSI']>30) & (df['20DMA'].shift(1) < df['50DMA'].shift(1)) & (df['20DMA'] > df['50DMA'])\n",
    "    df.loc[buy_condition, 'Signal'] = 1\n",
    "    \n",
    "    # selling condition and signal\n",
    "    sell_condition = (df['20DMA'].shift(1) > df['50DMA'].shift(1)) & (df['20DMA'] < df['50DMA'])\n",
    "    df.loc[sell_condition, 'Signal'] = -1\n",
    "\n",
    "    return df\n",
    "    "
   ]
  },
  {
   "cell_type": "code",
   "execution_count": 25,
   "id": "d22c4d2b-9798-4ef8-933f-4a44de33db6d",
   "metadata": {},
   "outputs": [],
   "source": [
    "# Backtesting\n",
    "\n",
    "def backtest(df):\n",
    "    pos=0\n",
    "    entry_price=0\n",
    "    trades=[]\n",
    "    for i,row in df.iterrows():\n",
    "        if row['Signal']==1 and pos==0:\n",
    "            pos=1\n",
    "            entry_price=row['Close']\n",
    "            trades.append({'Entry Date':i,'Entry Price':entry_price,'Exit Date': None, 'Exit Price': None, 'P&L': None})\n",
    "        elif row['Signal']==-1 and pos==1:\n",
    "            exit_price=row['Close']\n",
    "            trades[-1]['Exit Date']=i\n",
    "            trades[-1]['Exit Price']=exit_price\n",
    "            trades[-1]['P&L']=exit_price - entry_price\n",
    "            pos = 0\n",
    "    if pos==1:\n",
    "        exit_price=df.iloc[-1]['Close']\n",
    "        trades[-1]['Exit Date']=df.index[-1]\n",
    "        trades[-1]['Exit Price']=exit_price\n",
    "        trades[-1]['P&L']=exit_price-entry_price\n",
    "    # return trades \n",
    "    return pd.DataFrame(trades)"
   ]
  },
  {
   "cell_type": "code",
   "execution_count": 27,
   "id": "60b7ff92-aeab-4f7b-b6e8-e4402d60e747",
   "metadata": {},
   "outputs": [
    {
     "name": "stdout",
     "output_type": "stream",
     "text": [
      "Bactest Trade for the ticker : ONGC.NS   \n",
      "Empty DataFrame\n",
      "Columns: []\n",
      "Index: []\n",
      "Bactest Trade for the ticker : TCS.NS   \n",
      "                 Entry Date  Entry Price                 Exit Date  \\\n",
      "0 2025-05-21 00:00:00+05:30  3482.917725 2025-06-26 00:00:00+05:30   \n",
      "\n",
      "   Exit Price        P&L  \n",
      "0  3430.15918 -52.758545  \n",
      "Bactest Trade for the ticker : INFY.NS   \n",
      "                 Entry Date  Entry Price                 Exit Date  \\\n",
      "0 2025-05-23 00:00:00+05:30  1543.088623 2025-07-30 00:00:00+05:30   \n",
      "\n",
      "   Exit Price        P&L  \n",
      "0      1519.0 -24.088623  \n"
     ]
    }
   ],
   "source": [
    "for ticker in tickers:\n",
    "    stock_data[ticker]=gen_signals(stock_data[ticker])\n",
    "    backtested_df=backtest(stock_data[ticker])\n",
    "    print(f\"Bactest Trade for the ticker : {ticker}   \")\n",
    "    print(backtested_df)"
   ]
  },
  {
   "cell_type": "code",
   "execution_count": null,
   "id": "129401b3-159b-44d7-9c1d-8b7a453a13f6",
   "metadata": {},
   "outputs": [],
   "source": []
  },
  {
   "cell_type": "markdown",
   "id": "2a18bdba-d84c-4ea8-a28e-7b4bee6ce691",
   "metadata": {},
   "source": [
    "# Using ML"
   ]
  },
  {
   "cell_type": "code",
   "execution_count": 31,
   "id": "9621086f-f2b4-48bd-ab7f-3a883d42e3ea",
   "metadata": {},
   "outputs": [],
   "source": [
    "from sklearn.model_selection import train_test_split\n",
    "from sklearn.linear_model import LinearRegression\n",
    "from sklearn.metrics import accuracy_score\n",
    "from sklearn.tree import DecisionTreeClassifier"
   ]
  },
  {
   "cell_type": "code",
   "execution_count": 33,
   "id": "0ca7871f-22ac-4094-b2f2-4dd495ebb3a2",
   "metadata": {},
   "outputs": [],
   "source": [
    "# defining function for finding MACD"
   ]
  },
  {
   "cell_type": "code",
   "execution_count": 35,
   "id": "7a95ac07-f403-49ab-aa94-a1ca756a13c8",
   "metadata": {},
   "outputs": [],
   "source": [
    "def MACD(df):\n",
    "    exp1=df['Close'].ewm(span=12,adjust=False).mean()\n",
    "    exp2=df['Close'].ewm(span=24,adjust=False).mean()\n",
    "    macd=exp1-exp2\n",
    "    signal=macd.ewm(span=9,adjust=False).mean()\n",
    "    return macd,signal"
   ]
  },
  {
   "cell_type": "code",
   "execution_count": 37,
   "id": "f0edea99-3f43-4288-b995-3c7cb2e4b375",
   "metadata": {},
   "outputs": [],
   "source": [
    "# splitting the data into features and target\n",
    "\n",
    "def split_data(df):\n",
    "    df['MACD'],df['MACD_Signal']=MACD(df)\n",
    "    df['Price_ND']=(df['Close'].shift(-1)>df['Close']).astype(int)\n",
    "    df.dropna(inplace=True)\n",
    "    features=df[['RSI','MACD','MACD_Signal','Volume']]\n",
    "    target=df['Price_ND']\n",
    "    return features,target"
   ]
  },
  {
   "cell_type": "code",
   "execution_count": 39,
   "id": "e745a7fd-7ad7-4ec4-9345-cb0b34b56d21",
   "metadata": {},
   "outputs": [],
   "source": [
    "# defining main()"
   ]
  },
  {
   "cell_type": "code",
   "execution_count": 41,
   "id": "ed887cda-31ab-4ad9-b56e-dfbdb6dda6c0",
   "metadata": {},
   "outputs": [],
   "source": [
    "def main():\n",
    "    for ticker in tickers:\n",
    "        features,target=split_data(stock_data[ticker])\n",
    "        X_train,X_test,y_train,y_test=train_test_split(features,target,test_size=0.25,random_state=32)\n",
    "    \n",
    "        # using LR\n",
    "        regressor=LinearRegression()\n",
    "        regressor.fit(X_train,y_train) # traininng the model on the training dataset\n",
    "        pred=regressor.predict(X_test) # predictions are between 0 and 1 so it is directly not possible to find the accuracy score\n",
    "        \n",
    "        # thresholding the target variable\n",
    "        thresholded_pred=(pred>=0.5).astype(int)\n",
    "        accuracy=accuracy_score(y_test,thresholded_pred)\n",
    "    \n",
    "        # Using Decision Tree Classifier\n",
    "        dtclassifier=DecisionTreeClassifier(random_state=4,max_depth=25)\n",
    "        dtclassifier.fit(X_train,y_train)\n",
    "        logging.info('Decision Tree Classifier is Trained')\n",
    "    \n",
    "        prediction=dtclassifier.predict(X_test)\n",
    "        logging.info('Decision Tree Classifier model had made the predictions')\n",
    "        acc=accuracy_score(y_test,prediction)\n",
    "        logging.info('Models are Trained')\n",
    "        print(f\" ML Model based on Linear Regression for {ticker} has accuracy == {accuracy}\")\n",
    "        print(f\" ML Model based on Decision Tree Classifier for {ticker} has accuracy == {acc}\")\n"
   ]
  },
  {
   "cell_type": "code",
   "execution_count": 43,
   "id": "f8747913-0147-4667-933e-4d36f3ff310f",
   "metadata": {},
   "outputs": [
    {
     "name": "stderr",
     "output_type": "stream",
     "text": [
      "2025-08-11 19:25:12,044- INFO - Decision Tree Classifier is Trained\n",
      "2025-08-11 19:25:12,046- INFO - Decision Tree Classifier model had made the predictions\n",
      "2025-08-11 19:25:12,047- INFO - Models are Trained\n",
      "2025-08-11 19:25:12,054- INFO - Decision Tree Classifier is Trained\n",
      "2025-08-11 19:25:12,055- INFO - Decision Tree Classifier model had made the predictions\n",
      "2025-08-11 19:25:12,056- INFO - Models are Trained\n",
      "2025-08-11 19:25:12,061- INFO - Decision Tree Classifier is Trained\n",
      "2025-08-11 19:25:12,062- INFO - Decision Tree Classifier model had made the predictions\n",
      "2025-08-11 19:25:12,063- INFO - Models are Trained\n"
     ]
    },
    {
     "name": "stdout",
     "output_type": "stream",
     "text": [
      " ML Model based on Linear Regression for ONGC.NS has accuracy == 0.42105263157894735\n",
      " ML Model based on Decision Tree Classifier for ONGC.NS has accuracy == 0.5789473684210527\n",
      " ML Model based on Linear Regression for TCS.NS has accuracy == 0.7368421052631579\n",
      " ML Model based on Decision Tree Classifier for TCS.NS has accuracy == 0.5789473684210527\n",
      " ML Model based on Linear Regression for INFY.NS has accuracy == 0.42105263157894735\n",
      " ML Model based on Decision Tree Classifier for INFY.NS has accuracy == 0.47368421052631576\n"
     ]
    }
   ],
   "source": [
    "if __name__==\"__main__\":\n",
    "    main()"
   ]
  },
  {
   "cell_type": "markdown",
   "id": "5005c0a6-6479-4c0b-b515-d35e0e3130a9",
   "metadata": {},
   "source": [
    "# Automation"
   ]
  },
  {
   "cell_type": "code",
   "execution_count": null,
   "id": "50f7ddc1-cf35-40f7-aec0-71404518ff65",
   "metadata": {},
   "outputs": [],
   "source": [
    "import time\n",
    "import schedule\n",
    "import datetime"
   ]
  },
  {
   "cell_type": "code",
   "execution_count": null,
   "id": "45bf24ba-a5fe-4bde-beef-8c27779de077",
   "metadata": {},
   "outputs": [],
   "source": [
    "def automate():\n",
    "    logging.info('Starting Scheduled Programm Run')\n",
    "    main()\n",
    "    logging.info('Ending Scheduled Programm Run')\n",
    "\n"
   ]
  },
  {
   "cell_type": "code",
   "execution_count": null,
   "id": "e494c70a-2586-49cd-8fb8-c8e1d094731c",
   "metadata": {},
   "outputs": [],
   "source": [
    "schedule.every().day.at(\"17:15\").do(automate)\n",
    "while True:\n",
    "    schedule.run_pending()\n",
    "    time.sleep(60)"
   ]
  },
  {
   "cell_type": "markdown",
   "id": "6868b932-8fe2-47b0-8596-0ea69478ab86",
   "metadata": {},
   "source": [
    "# Saving Data into SpreadSheet"
   ]
  },
  {
   "cell_type": "code",
   "execution_count": 69,
   "id": "3cdbac3f-b39d-4202-bf25-52648fb8edbc",
   "metadata": {},
   "outputs": [],
   "source": [
    "import gspread\n",
    "from oauth2client.service_account import ServiceAccountCredentials\n",
    "\n",
    "# Connect to Google Sheets\n",
    "def connect_to_sheet(sheet_name):\n",
    "    scope = [\"https://spreadsheets.google.com/feeds\", \"https://www.googleapis.com/auth/drive\"]\n",
    "    creds = ServiceAccountCredentials.from_json_keyfile_name(\"credentials.json\", scope)\n",
    "    client = gspread.authorize(creds)\n",
    "    sheet = client.open(sheet_name)\n",
    "    return sheet\n",
    "\n",
    "# Append a row to a specific tab\n",
    "def append_row(sheet, tab_name, row_values):\n",
    "    worksheet = sheet.worksheet(tab_name)\n",
    "    worksheet.append_row(row_values)\n"
   ]
  },
  {
   "cell_type": "code",
   "execution_count": 71,
   "id": "3621e046-82a5-448d-a194-e819be8e1e58",
   "metadata": {},
   "outputs": [],
   "source": [
    "sheet_id='1Oq8QyfuWBf3JcicpD73N1xAtlKaMZJ5F1qG7oNgNXv4'"
   ]
  },
  {
   "cell_type": "code",
   "execution_count": 98,
   "id": "7dc65c3d-7e67-4439-9887-ab21e379d33e",
   "metadata": {},
   "outputs": [],
   "source": [
    "logging.basicConfig(level=logging.INFO)\n",
    "\n",
    "# Connecting globally\n",
    "sheet = connect_to_sheet(\"Algo Trading Log\")\n",
    "\n",
    "def log_trade(symbol, action, price, qty, pnl):\n",
    "    append_row(sheet, \"TradeLog\", [\n",
    "        datetime.now().strftime(\"%Y-%m-%d %H:%M:%S\"),\n",
    "        symbol,\n",
    "        action,\n",
    "        price,\n",
    "        qty,\n",
    "        pnl\n",
    "    ])\n",
    "    logging.info(f\"Trade logged: {symbol} {action} @ {price}\")\n",
    "\n",
    "def log_summary(total_trades, wins, losses, net_pnl):\n",
    "    append_row(sheet, \"Summary\", [\n",
    "        datetime.now().strftime(\"%Y-%m-%d\"),\n",
    "        total_trades,\n",
    "        wins,\n",
    "        losses,\n",
    "        net_pnl\n",
    "    ])\n",
    "    logging.info(\"Summary updated\")"
   ]
  },
  {
   "cell_type": "code",
   "execution_count": null,
   "id": "a806901d-85f8-4c4c-9c52-eafc4b676b0d",
   "metadata": {},
   "outputs": [],
   "source": []
  }
 ],
 "metadata": {
  "kernelspec": {
   "display_name": "Python [conda env:base] *",
   "language": "python",
   "name": "conda-base-py"
  },
  "language_info": {
   "codemirror_mode": {
    "name": "ipython",
    "version": 3
   },
   "file_extension": ".py",
   "mimetype": "text/x-python",
   "name": "python",
   "nbconvert_exporter": "python",
   "pygments_lexer": "ipython3",
   "version": "3.12.7"
  }
 },
 "nbformat": 4,
 "nbformat_minor": 5
}
